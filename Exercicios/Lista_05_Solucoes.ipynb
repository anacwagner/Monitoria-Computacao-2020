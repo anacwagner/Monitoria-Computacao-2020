{
 "cells": [
  {
   "cell_type": "markdown",
   "metadata": {},
   "source": [
    "# Lista de Exercícios 5 (soluções propostas)\n",
    "\n",
    "Não é um gabarito fechado. As soluções encontradas aqui são apenas algumas possibilidades. Usem a criatividade!"
   ]
  },
  {
   "cell_type": "code",
   "execution_count": 1,
   "metadata": {},
   "outputs": [],
   "source": [
    "import numpy as np\n",
    "import pandas as pd #biblioteca usada para importar os dados usados na questão 9"
   ]
  },
  {
   "cell_type": "markdown",
   "metadata": {},
   "source": [
    "## QUESTÃO 1:\n",
    "\n",
    "Implementar a ordenação de matrizes pelo método do [Bubble Sort](https://pt.wikipedia.org/wiki/Bubble_sort). A função deve receber dois parâmetros de entrada: (i) uma matriz e (ii) o tipo de ordenamento (linha ou coluna)."
   ]
  },
  {
   "cell_type": "code",
   "execution_count": 2,
   "metadata": {},
   "outputs": [],
   "source": [
    "def bubbleSort(matriz,tipo):\n",
    "    if tipo!='linha' and tipo!='coluna':\n",
    "        print(\"Erro: escolha o ordenamento por 'linha' ou 'coluna'!\")\n",
    "        return  \n",
    "    \n",
    "    mat=matriz.copy()\n",
    "    nlin=mat.shape[0]\n",
    "    ncol=mat.shape[1] \n",
    "    \n",
    "    if tipo=='linha':\n",
    "        for i in range(nlin):\n",
    "            houvetroca=1\n",
    "            passadas=0 #serve para controlar o loop e evitar que vá até o final da lista desnecessariamente\n",
    "            while houvetroca==1:\n",
    "                houvetroca=0\n",
    "                for j in range(ncol-1-passadas):\n",
    "                    if mat[i,j]>mat[i,j+1]:\n",
    "                        mat[i,j],mat[i,j+1]=mat[i,j+1],mat[i,j]\n",
    "                        houvetroca=1\n",
    "                passadas=passadas+1         \n",
    "    elif tipo=='coluna':     \n",
    "        for j in range(ncol):\n",
    "            houvetroca=1\n",
    "            passadas=0 #serve para controlar o loop e evitar que vá até o final da lista desnecessariamente\n",
    "            while houvetroca==1:\n",
    "                houvetroca=0\n",
    "                for i in range(nlin-1-passadas):\n",
    "                    if mat[i,j]>mat[i+1,j]:\n",
    "                        mat[i,j],mat[i+1,j]=mat[i+1,j],mat[i,j]\n",
    "                        houvetroca=1\n",
    "                passadas=passadas+1\n",
    "      \n",
    "    return mat"
   ]
  },
  {
   "cell_type": "code",
   "execution_count": 3,
   "metadata": {},
   "outputs": [
    {
     "data": {
      "text/plain": [
       "array([[ 5,  1, 10,  2,  8,  4,  3, 21],\n",
       "       [ 5,  0, 11,  1,  7,  2,  3, 20]])"
      ]
     },
     "execution_count": 3,
     "metadata": {},
     "output_type": "execute_result"
    }
   ],
   "source": [
    "x=np.array([[5,1,10,2,8,4,3,21],[5,0,11,1,7,2,3,20]])\n",
    "x"
   ]
  },
  {
   "cell_type": "code",
   "execution_count": 4,
   "metadata": {},
   "outputs": [
    {
     "name": "stdout",
     "output_type": "stream",
     "text": [
      "Erro: escolha o ordenamento por 'linha' ou 'coluna'!\n"
     ]
    }
   ],
   "source": [
    "bubbleSort(x,'f')"
   ]
  },
  {
   "cell_type": "code",
   "execution_count": 5,
   "metadata": {},
   "outputs": [
    {
     "data": {
      "text/plain": [
       "array([[ 1,  2,  3,  4,  5,  8, 10, 21],\n",
       "       [ 0,  1,  2,  3,  5,  7, 11, 20]])"
      ]
     },
     "execution_count": 5,
     "metadata": {},
     "output_type": "execute_result"
    }
   ],
   "source": [
    "bubbleSort(x,'linha')"
   ]
  },
  {
   "cell_type": "code",
   "execution_count": 6,
   "metadata": {},
   "outputs": [
    {
     "data": {
      "text/plain": [
       "array([[ 5,  0, 10,  1,  7,  2,  3, 20],\n",
       "       [ 5,  1, 11,  2,  8,  4,  3, 21]])"
      ]
     },
     "execution_count": 6,
     "metadata": {},
     "output_type": "execute_result"
    }
   ],
   "source": [
    "bubbleSort(x,'coluna')"
   ]
  },
  {
   "cell_type": "markdown",
   "metadata": {},
   "source": [
    "## QUESTÃO 2:\n",
    "\n",
    "Criar uma função que recebe uma matriz como parâmetro de entrada e troca 2 linhas (ou colunas) escolhidas (parâmetros de entrada) de posição. A escolha da troca por 'linha' ou 'coluna' também é um parâmetro de entrada. "
   ]
  },
  {
   "cell_type": "code",
   "execution_count": 7,
   "metadata": {},
   "outputs": [],
   "source": [
    "def trocaLinhasOuColunas(matriz,troca,t1,t2):\n",
    "    if troca!='linha' and troca !='coluna':\n",
    "        print(\"Erro! Escoha se a troca é por 'linha' ou 'coluna'!\")\n",
    "        return \n",
    "    \n",
    "    mat=matriz.copy()\n",
    "    nlin,ncol=mat.shape\n",
    "    #nlin=mat.shape[0]\n",
    "    #ncol=mat.shape[1]\n",
    "    \n",
    "    if troca=='linha':\n",
    "        #verifica se as LINHAS t1 e t2 existem na matriz mat\n",
    "        if t1>nlin-1 or t2>nlin-1:\n",
    "            print('Erro! Digite posições de linhas válidas para a matriz escolhida!')\n",
    "            return      \n",
    "        #troca as LINHAS t1 e t2 da matriz mat de posição\n",
    "        for j in range (ncol):\n",
    "            mat[t1,j],mat[t2,j]=mat[t2,j],mat[t1,j]   \n",
    "            \n",
    "    elif troca=='coluna':\n",
    "        #verifica se as COLUNAS t1 e t2 existem na matriz mat\n",
    "        if t1>ncol-1 or t2>ncol-1:\n",
    "            print('Erro! Digite posições de colunas válidas para a matriz escolhida!')\n",
    "            return      \n",
    "        #troca as COLUNAS t1 e t2 da matriz mat de posição\n",
    "        for i in range (nlin):\n",
    "            mat[i,t1],mat[i,t2]=mat[i,t2],mat[i,t1]\n",
    "            \n",
    "    return mat"
   ]
  },
  {
   "cell_type": "code",
   "execution_count": 8,
   "metadata": {},
   "outputs": [
    {
     "data": {
      "text/plain": [
       "matrix([[ 1,  2,  3,  4],\n",
       "        [ 5,  6,  7,  8],\n",
       "        [ 9, 10, 11, 12],\n",
       "        [13, 14, 15, 16],\n",
       "        [17, 18, 19, 20]])"
      ]
     },
     "execution_count": 8,
     "metadata": {},
     "output_type": "execute_result"
    }
   ],
   "source": [
    "tr=np.matrix([[1,2,3,4],[5,6,7,8],[9,10,11,12],[13,14,15,16],[17,18,19,20]])\n",
    "tr"
   ]
  },
  {
   "cell_type": "code",
   "execution_count": 9,
   "metadata": {},
   "outputs": [
    {
     "data": {
      "text/plain": [
       "matrix([[17, 18, 19, 20],\n",
       "        [ 5,  6,  7,  8],\n",
       "        [ 9, 10, 11, 12],\n",
       "        [13, 14, 15, 16],\n",
       "        [ 1,  2,  3,  4]])"
      ]
     },
     "execution_count": 9,
     "metadata": {},
     "output_type": "execute_result"
    }
   ],
   "source": [
    "trocaLinhasOuColunas(tr,'linha',4,0)"
   ]
  },
  {
   "cell_type": "code",
   "execution_count": 10,
   "metadata": {},
   "outputs": [
    {
     "data": {
      "text/plain": [
       "matrix([[ 1,  4,  3,  2],\n",
       "        [ 5,  8,  7,  6],\n",
       "        [ 9, 12, 11, 10],\n",
       "        [13, 16, 15, 14],\n",
       "        [17, 20, 19, 18]])"
      ]
     },
     "execution_count": 10,
     "metadata": {},
     "output_type": "execute_result"
    }
   ],
   "source": [
    "trocaLinhasOuColunas(tr,'coluna',1,3)"
   ]
  },
  {
   "cell_type": "markdown",
   "metadata": {},
   "source": [
    "## QUESTÃO 3:\n",
    "\n",
    "Criar uma função que recebe uma matriz como parâmetro de entrada e inverte a ordem das linhas (ou colunas) dessa matriz. "
   ]
  },
  {
   "cell_type": "code",
   "execution_count": 11,
   "metadata": {},
   "outputs": [],
   "source": [
    "def trocaTudo(matriz,troca):\n",
    "    if troca!='linha' and troca !='coluna':\n",
    "        print(\"Erro! Escoha se a troca é por 'linha' ou 'coluna'!\")\n",
    "        return \n",
    "    \n",
    "    mat=matriz.copy()\n",
    "    nlin,ncol=mat.shape\n",
    "    #nlin=mat.shape[0]\n",
    "    #ncol=mat.shape[1]\n",
    "    \n",
    "    if troca=='linha':\n",
    "        for i in range(nlin//2): #tem que ir só até a metade, caso contrário, inverete o que foi feito!\n",
    "            for j in range(ncol):\n",
    "                aux=mat[i,j]\n",
    "                mat[i,j]=mat[(nlin-i-1),j]\n",
    "                mat[(nlin-i-1),j]=aux\n",
    "                #mat[i,j],mat[(nlin-i-1),j]=mat[(nlin-i-1),j],mat[i,j]\n",
    "                \n",
    "    elif troca=='coluna':\n",
    "        for j in range(ncol//2): #tem que ir só até a metade, caso contrário, inverete o que foi feito!\n",
    "            for i in range(nlin):\n",
    "                aux=mat[i,j]\n",
    "                mat[i,j]=mat[i,(ncol-j-1)]\n",
    "                mat[i,(ncol-j-1)]=aux\n",
    "                #mat[i,j],mat[i,(ncol-j-1)]=mat[i,(ncol-j-1)],mat[i,j]\n",
    "    return mat"
   ]
  },
  {
   "cell_type": "code",
   "execution_count": 12,
   "metadata": {},
   "outputs": [
    {
     "data": {
      "text/plain": [
       "matrix([[ 1,  2,  3,  4],\n",
       "        [ 5,  6,  7,  8],\n",
       "        [ 9, 10, 11, 12],\n",
       "        [13, 14, 15, 16],\n",
       "        [17, 18, 19, 20]])"
      ]
     },
     "execution_count": 12,
     "metadata": {},
     "output_type": "execute_result"
    }
   ],
   "source": [
    "#Apenas uma CURIOSIDADE sobre como criar uma matriz com os elementos em uma sequência escolhida.\n",
    "lins=5\n",
    "cols=4\n",
    "tr=np.matrix(np.arange(1,lins*cols+1).reshape(lins,cols))\n",
    "#tr=np.matrix([[1,2,3,4],[5,6,7,8],[9,10,11,12],[13,14,15,16],[17,18,19,20]])\n",
    "tr"
   ]
  },
  {
   "cell_type": "code",
   "execution_count": 13,
   "metadata": {},
   "outputs": [
    {
     "data": {
      "text/plain": [
       "matrix([[17, 18, 19, 20],\n",
       "        [13, 14, 15, 16],\n",
       "        [ 9, 10, 11, 12],\n",
       "        [ 5,  6,  7,  8],\n",
       "        [ 1,  2,  3,  4]])"
      ]
     },
     "execution_count": 13,
     "metadata": {},
     "output_type": "execute_result"
    }
   ],
   "source": [
    "trocaTudo(tr,'linha')"
   ]
  },
  {
   "cell_type": "code",
   "execution_count": 14,
   "metadata": {},
   "outputs": [
    {
     "data": {
      "text/plain": [
       "matrix([[ 4,  3,  2,  1],\n",
       "        [ 8,  7,  6,  5],\n",
       "        [12, 11, 10,  9],\n",
       "        [16, 15, 14, 13],\n",
       "        [20, 19, 18, 17]])"
      ]
     },
     "execution_count": 14,
     "metadata": {},
     "output_type": "execute_result"
    }
   ],
   "source": [
    "trocaTudo(tr,'coluna')"
   ]
  },
  {
   "cell_type": "markdown",
   "metadata": {},
   "source": [
    "## QUESTÃO 4:\n",
    "\n",
    "Criar uma função para multiplicar duas matrizes, pela implementação do método de multiplicação matricial (não usar a função de multiplicação de matrizes do Numpy)."
   ]
  },
  {
   "cell_type": "code",
   "execution_count": 15,
   "metadata": {},
   "outputs": [],
   "source": [
    "def matmult(a,b):\n",
    "    nlina=a.shape[0]\n",
    "    ncola=a.shape[1]\n",
    "    nlinb=b.shape[0]\n",
    "    ncolb=b.shape[1]\n",
    "    if ncola!=nlinb:\n",
    "        print(\"Dimensões incompatíveis!\")\n",
    "        return nan\n",
    "    nlinc=nlina\n",
    "    ncolc=ncolb\n",
    "    M=np.matrix(np.zeros((nlinc,ncolc)))\n",
    "    for i in range (nlinc):\n",
    "        for j in range (ncolc):\n",
    "            M[i,j]=0\n",
    "            for k in range (ncola):\n",
    "                M[i,j]=M[i,j]+a[i,k]*b[k,j]\n",
    "    return M"
   ]
  },
  {
   "cell_type": "code",
   "execution_count": 16,
   "metadata": {},
   "outputs": [],
   "source": [
    "tr1=np.matrix([[1,2,3,4],[5,6,7,8],[9,10,11,12],[13,14,15,16],[17,18,19,20]])\n",
    "tr2=np.matrix([[1,2],[5,6],[9,10],[13,14]])"
   ]
  },
  {
   "cell_type": "code",
   "execution_count": 17,
   "metadata": {},
   "outputs": [
    {
     "data": {
      "text/plain": [
       "matrix([[ 90., 100.],\n",
       "        [202., 228.],\n",
       "        [314., 356.],\n",
       "        [426., 484.],\n",
       "        [538., 612.]])"
      ]
     },
     "execution_count": 17,
     "metadata": {},
     "output_type": "execute_result"
    }
   ],
   "source": [
    "matmult(tr1,tr2)"
   ]
  },
  {
   "cell_type": "code",
   "execution_count": 18,
   "metadata": {},
   "outputs": [
    {
     "data": {
      "text/plain": [
       "matrix([[ 90, 100],\n",
       "        [202, 228],\n",
       "        [314, 356],\n",
       "        [426, 484],\n",
       "        [538, 612]])"
      ]
     },
     "execution_count": 18,
     "metadata": {},
     "output_type": "execute_result"
    }
   ],
   "source": [
    "#Vamos conferir esse resultado?\n",
    "x=tr1*tr2\n",
    "x"
   ]
  },
  {
   "cell_type": "markdown",
   "metadata": {},
   "source": [
    "## QUESTÃO 5:\n",
    "\n",
    "Calcular o [determinante](https://pt.wikipedia.org/wiki/Determinante) de uma matriz usando o **método de escalonamento**. "
   ]
  },
  {
   "cell_type": "code",
   "execution_count": 19,
   "metadata": {},
   "outputs": [],
   "source": [
    "def determinanteEscalonamento(matriz):\n",
    "    M=matriz.copy()\n",
    "    nlins=mat.shape[0]\n",
    "    ncols=mat.shape[1]\n",
    "    mult=1\n",
    "    for linbase in range(nlins):\n",
    "        #pega o elemento da diagonal como fator da linha base\n",
    "        fator=M[linbase,linbase]\n",
    "        mult=mult*fator\n",
    "        #divide os elementos da linha base pelo fator, pra ficar com 1 na diagonal\n",
    "        for col in range(ncols):\n",
    "            M[linbase,col]=M[linbase,col]/fator\n",
    "        #substitui os elementos das linhas abaixo de forma a fazer os elementos abaixo do fator ficarem com zero\n",
    "        for lin in range (linbase+1,nlins):\n",
    "            #pega como \"pivô\" o elemento da linha que está na coluna do fator da linha base \n",
    "            pivo=M[lin,linbase]\n",
    "            for col in range(ncols):\n",
    "                M[lin,col]=M[lin,col]-pivo*M[linbase,col]\n",
    "    return mult"
   ]
  },
  {
   "cell_type": "code",
   "execution_count": 20,
   "metadata": {},
   "outputs": [
    {
     "data": {
      "text/plain": [
       "matrix([[ 4.,  1.,  2.],\n",
       "        [ 3.,  2.,  0.],\n",
       "        [ 2., -1.,  1.]])"
      ]
     },
     "execution_count": 20,
     "metadata": {},
     "output_type": "execute_result"
    }
   ],
   "source": [
    "mat=np.matrix([[4.,1.,2.],[3.,2.,0.],[2.,-1.,1.]])\n",
    "mat"
   ]
  },
  {
   "cell_type": "code",
   "execution_count": 21,
   "metadata": {},
   "outputs": [
    {
     "data": {
      "text/plain": [
       "-9.0"
      ]
     },
     "execution_count": 21,
     "metadata": {},
     "output_type": "execute_result"
    }
   ],
   "source": [
    "determinanteEscalonamento(mat)"
   ]
  },
  {
   "cell_type": "code",
   "execution_count": 22,
   "metadata": {},
   "outputs": [
    {
     "name": "stdout",
     "output_type": "stream",
     "text": [
      "-8.999999999999998\n",
      "-9.0\n"
     ]
    }
   ],
   "source": [
    "#Vamos conferir esse resultado?\n",
    "print(np.linalg.det(mat))\n",
    "print(round(np.linalg.det(mat),1))"
   ]
  },
  {
   "cell_type": "markdown",
   "metadata": {},
   "source": [
    "## QUESTÃO 6:\n",
    "\n",
    "Calcular o [determinante](https://pt.wikipedia.org/wiki/Teorema_de_Laplace) de uma matriz usando o **método dos cofatores** (recursivo)."
   ]
  },
  {
   "cell_type": "code",
   "execution_count": 23,
   "metadata": {},
   "outputs": [],
   "source": [
    "def determinanteCofatores(matriz):\n",
    "    M=matriz.copy()\n",
    "    nlins=M.shape[0]\n",
    "    ncols=M.shape[1]\n",
    "    #cofs=np.zeros((1,ncols))\n",
    "    if nlins==1 and ncols==1:\n",
    "        return M[0,0]\n",
    "    #calcula o determinante com base nos cofatores dos elementos da primeira linha\n",
    "    det=0\n",
    "    for elemento in range(ncols): #pega todos os elementos da primeira linha da matriz, calcula o cofator e o menor\n",
    "        menor=np.zeros((nlins-1,ncols-1))\n",
    "        cof=((-1)**elemento)*M[0,elemento]\n",
    "        for lin in range(1,nlins): #pega as linhas abaixo da primeira\n",
    "            colmenor=0\n",
    "            for col in range(ncols):\n",
    "                if col!=elemento:\n",
    "                    menor[lin-1,colmenor]=M[lin,col]\n",
    "                    colmenor=colmenor+1\n",
    "            det=det+cof*determinanteCofatores(menor)\n",
    "    return det"
   ]
  },
  {
   "cell_type": "code",
   "execution_count": 24,
   "metadata": {},
   "outputs": [
    {
     "data": {
      "text/plain": [
       "matrix([[ 4.,  1.,  2.],\n",
       "        [ 3.,  2.,  0.],\n",
       "        [ 2., -1.,  1.]])"
      ]
     },
     "execution_count": 24,
     "metadata": {},
     "output_type": "execute_result"
    }
   ],
   "source": [
    "mat=np.matrix([[4.,1.,2.],[3.,2.,0.],[2.,-1.,1.]])\n",
    "mat"
   ]
  },
  {
   "cell_type": "code",
   "execution_count": 25,
   "metadata": {},
   "outputs": [
    {
     "data": {
      "text/plain": [
       "-9.0"
      ]
     },
     "execution_count": 25,
     "metadata": {},
     "output_type": "execute_result"
    }
   ],
   "source": [
    "determinanteCofatores(mat)"
   ]
  },
  {
   "cell_type": "code",
   "execution_count": 26,
   "metadata": {},
   "outputs": [
    {
     "name": "stdout",
     "output_type": "stream",
     "text": [
      "-8.999999999999998\n",
      "-9.0\n"
     ]
    }
   ],
   "source": [
    "#Vamos conferir esse resultado?\n",
    "print(np.linalg.det(mat))\n",
    "print(round(np.linalg.det(mat),1))"
   ]
  },
  {
   "cell_type": "markdown",
   "metadata": {},
   "source": [
    "## QUESTÃO 7:\n",
    "\n",
    "\n",
    "\n",
    "Contar os pontos do boliche, as regras e um exemplo de jogo bem detalhado estão no arquivo `boliche-regras-de-pontos.docx`. Use os seguintes dados:\n",
    "\n"
   ]
  },
  {
   "cell_type": "code",
   "execution_count": 27,
   "metadata": {},
   "outputs": [],
   "source": [
    "#Dados: boliche\n",
    "jog1=[[10,0],[10,0],[10,0],[7,2],[8,2],[0,9],[10,0],[7,3],[9,0],[10,0],[10,8]]\n",
    "jog2=[[2,5],[5,5],[10,0],[6,3],[10,0],[10,0],[9,0],[5,2],[9,1],[9,0]]\n",
    "jog3=[[9,1],[10,0],[8,1],[5,4],[10,0],[10,0],[10,0],[9,1],[8,1],[8,2],[5,0]]\n",
    "jog4=[[2,2],[4,1],[8,1],[6,2],[9,1],[0,10],[1,5],[2,2],[4,2],[4,1]]"
   ]
  },
  {
   "cell_type": "code",
   "execution_count": 28,
   "metadata": {},
   "outputs": [],
   "source": [
    "def boliche(jogadas):\n",
    "    jogadas=np.array(jogadas)\n",
    "    n=jogadas.shape[0]\n",
    "    if n==10: \n",
    "        e=1\n",
    "    else:\n",
    "        n=10\n",
    "        e=0\n",
    "    \n",
    "    #Definindo o tipo da jogada: strike, spare ou normal\n",
    "    tipos=np.zeros(n+1).astype(str) #adicionar mais um índice para ajudar a calcular o bônus\n",
    "    pontosbase=np.zeros(n) \n",
    "    for j in range(n):\n",
    "        if jogadas[j,0]==10:\n",
    "            tipos[j]='strike'\n",
    "        elif jogadas[j].sum()==10: \n",
    "            tipos[j]='spare'\n",
    "        else:\n",
    "            tipos[j]='normal'\n",
    "    \n",
    "        #Calculando os pontos-base\n",
    "        pontosbase[j]=jogadas[j].sum()\n",
    "    \n",
    "    #Calculando o bônus\n",
    "    bonus=np.zeros(n+e)\n",
    "    for t in range(n+e):\n",
    "        if tipos[t]=='strike':\n",
    "            if tipos[t+1]=='strike':\n",
    "                pinosderrubados=jogadas[t+1,0]+jogadas[t+1,1]+jogadas[t+2,0]\n",
    "            else:\n",
    "                pinosderrubados=jogadas[t+1,0]+jogadas[t+1,1]\n",
    "        elif tipos[t]=='spare':\n",
    "            pinosderrubados=jogadas[t+1,0]\n",
    "        else:\n",
    "            pinosderrubados=0\n",
    "        bonus[t]=pinosderrubados\n",
    "    \n",
    "    pontosjogada=np.zeros(n)\n",
    "    for i in range(n):\n",
    "        pontos=pontosbase[i]+bonus[i]\n",
    "        pontosjogada[i]=pontos\n",
    "        \n",
    "    return int(pontosjogada.cumsum()[-1])"
   ]
  },
  {
   "cell_type": "code",
   "execution_count": 29,
   "metadata": {},
   "outputs": [
    {
     "name": "stdout",
     "output_type": "stream",
     "text": [
      "Jogador 1:  180\n",
      "Jogador 2:  147\n",
      "Jogador 3:  178\n",
      "Jogador 4:  68\n"
     ]
    }
   ],
   "source": [
    "print('Jogador 1: ', boliche(jog1))\n",
    "print('Jogador 2: ', boliche(jog2))\n",
    "print('Jogador 3: ', boliche(jog3))\n",
    "print('Jogador 4: ', boliche(jog4))"
   ]
  },
  {
   "cell_type": "markdown",
   "metadata": {},
   "source": [
    "## QUESTÃO 8:\n",
    "\n",
    "**Campo minado**: Defina o tamanho $n$ do quadro do jogo e a quantidade $p$ de bombas no quadro. Crie uma função que recebe como parâmetro de entrada uma matriz $p\\times2$, com a lista das posições onde estão localizadas as bombas (em cada linha, a primeira coluna contém o índice da linha e a segunda coluna o índice da coluna onde está localizada a bomba); e retorna como saída a matriz de vizinhança, de dimensão $n\\times n$, contendo, em cada célula, a quantidade de bombas existentes nas células vizinhas. \n",
    "\n",
    "As células onde estão localizadas as bombas devem ser preenchidas com NaN (not a number - `np.nan`) e as células que não têm bombas nas vizinhanças devem ser preenchidas com zeros."
   ]
  },
  {
   "cell_type": "code",
   "execution_count": 30,
   "metadata": {},
   "outputs": [
    {
     "data": {
      "text/plain": [
       "matrix([[0, 2],\n",
       "        [0, 3],\n",
       "        [1, 6],\n",
       "        [2, 2],\n",
       "        [2, 7],\n",
       "        [3, 0],\n",
       "        [3, 4],\n",
       "        [4, 6],\n",
       "        [5, 2],\n",
       "        [6, 5]])"
      ]
     },
     "execution_count": 30,
     "metadata": {},
     "output_type": "execute_result"
    }
   ],
   "source": [
    "#Matriz com a localização das bombas\n",
    "bombas=np.matrix([[0,2],[0,3],[1,6],[2,2],[2,7],[3,0],[3,4],[4,6],[5,2],[6,5]])\n",
    "bombas"
   ]
  },
  {
   "cell_type": "code",
   "execution_count": 31,
   "metadata": {},
   "outputs": [],
   "source": [
    "def campominado(bombas,tamanho1,tamanho2):\n",
    "    campo=np.zeros([tamanho1,tamanho2])\n",
    "    nbombas=bombas.shape[0]\n",
    "    for b in range(nbombas):\n",
    "        #marca a célula da bomba com \"nan\" (not a number)\n",
    "        campo[bombas[b,0],bombas[b,1]]=np.nan\n",
    "        #aumenta a quantidade de bombas nas células vizinhas\n",
    "        i=bombas[b,0]\n",
    "        j=bombas[b,1]\n",
    "        x1,x2,y1,y2=0,0,0,0\n",
    "        #esquerda\n",
    "        if j>0: \n",
    "            x1=-1\n",
    "        #direita\n",
    "        if j<tamanho2-1: \n",
    "            x2=2\n",
    "        #em cima\n",
    "        if i>0:         \n",
    "            y1=-1\n",
    "        #em baixo\n",
    "        if i<tamanho1-1: \n",
    "            y2=2\n",
    "        campo[i+y1:i+y2,j+x1:j+x2]+=1\n",
    "    return campo"
   ]
  },
  {
   "cell_type": "code",
   "execution_count": 32,
   "metadata": {},
   "outputs": [
    {
     "data": {
      "text/plain": [
       "array([[ 0.,  1., nan, nan,  1.,  1.,  1.,  1.],\n",
       "       [ 0.,  2.,  3.,  3.,  1.,  1., nan,  1.],\n",
       "       [ 1.,  2., nan,  2.,  1.,  2.,  2., nan],\n",
       "       [nan,  2.,  1.,  2., nan,  2.,  2.,  1.],\n",
       "       [ 1.,  2.,  1.,  2.,  1.,  2., nan,  1.],\n",
       "       [ 0.,  1., nan,  1.,  1.,  2.,  2.,  1.],\n",
       "       [ 0.,  1.,  1.,  1.,  1., nan,  1.,  0.],\n",
       "       [ 0.,  0.,  0.,  0.,  1.,  1.,  1.,  0.]])"
      ]
     },
     "execution_count": 32,
     "metadata": {},
     "output_type": "execute_result"
    }
   ],
   "source": [
    "campominado(bombas,8,8)"
   ]
  },
  {
   "cell_type": "markdown",
   "metadata": {},
   "source": [
    "## QUESTÃO 9:\n",
    "\n",
    "Uma das tarefas computacionais importantes é a localização de padrões de repetições em conjuntos de dados. Sua tarefa nesta questão é desenvolver um código para localizar e contar as ocorrências de uma sequência de valores dentro de uma matriz. \n",
    "\n",
    "a) Criar uma função que recebe como parâmetros de entrada (i) uma matriz de dados; e (ii) um valor a ser procurado, e retorna como parâmetros de saída (i) a quantidade de vezes que este valor aparece na matriz, e (ii) uma lista com as posições (linha coluna) onde esses valores são encontrados. "
   ]
  },
  {
   "cell_type": "code",
   "execution_count": 33,
   "metadata": {},
   "outputs": [],
   "source": [
    "dados=np.matrix(pd.read_excel('ocorrencias.xlsx',header=None))\n",
    "seq1=np.matrix(pd.read_excel('ocorrencias.xlsx',header=None,sheet_name=\"seq1\"))\n",
    "seq2=np.matrix(pd.read_excel('ocorrencias.xlsx',header=None,sheet_name=\"seq2\"))\n",
    "seq3=np.matrix(pd.read_excel('ocorrencias.xlsx',header=None,sheet_name=\"seq3\"))"
   ]
  },
  {
   "cell_type": "code",
   "execution_count": 34,
   "metadata": {},
   "outputs": [],
   "source": [
    "def contaocorr(matriz,valor):\n",
    "    mat=matriz.copy()\n",
    "    nlins=mat.shape[0]\n",
    "    ncols=mat.shape[1]\n",
    "    #conta quantas vezes o \"valor\" aparece na matriz \"mat\"\n",
    "    cont=0\n",
    "    lista=[]\n",
    "    for i in range(nlins):\n",
    "        for j in range(ncols):\n",
    "            if mat[i,j]==valor:\n",
    "                cont=cont+1\n",
    "                lista.append([i,j])\n",
    "    return cont,lista"
   ]
  },
  {
   "cell_type": "code",
   "execution_count": 35,
   "metadata": {},
   "outputs": [
    {
     "name": "stdout",
     "output_type": "stream",
     "text": [
      "119\n",
      "\n",
      "[[5, 14], [10, 29], [13, 29], [21, 23], [29, 30], [31, 5], [38, 2], [40, 12], [52, 3], [53, 1], [53, 40], [60, 15], [61, 20], [64, 25], [67, 21], [72, 9], [74, 37], [78, 45], [82, 6], [82, 46], [84, 26], [85, 25], [85, 40], [92, 10], [92, 11], [94, 44], [96, 18], [98, 43], [100, 8], [105, 38], [110, 6], [114, 29], [116, 45], [118, 21], [119, 49], [121, 33], [125, 15], [131, 2], [136, 5], [138, 43], [138, 47], [140, 31], [148, 7], [157, 47], [164, 38], [166, 12], [166, 14], [172, 17], [176, 43], [182, 37], [191, 18], [191, 34], [195, 9], [196, 23], [198, 13], [198, 32], [200, 37], [207, 8], [216, 24], [225, 28], [225, 43], [230, 22], [234, 8], [236, 20], [237, 33], [260, 26], [275, 14], [285, 30], [286, 1], [288, 49], [294, 13], [301, 12], [309, 34], [319, 13], [324, 24], [325, 45], [330, 26], [331, 23], [345, 13], [346, 49], [347, 42], [347, 47], [354, 2], [355, 14], [359, 28], [360, 15], [363, 14], [368, 6], [370, 14], [371, 44], [375, 39], [377, 37], [382, 15], [384, 41], [399, 35], [404, 14], [407, 25], [414, 2], [418, 35], [420, 28], [422, 18], [425, 30], [427, 35], [427, 44], [428, 2], [435, 45], [442, 6], [444, 14], [445, 16], [456, 22], [458, 6], [468, 19], [471, 15], [473, 48], [474, 13], [476, 24], [482, 27], [483, 36], [491, 0]]\n"
     ]
    }
   ],
   "source": [
    "print(contaocorr(dados,20)[0])\n",
    "print()\n",
    "print(contaocorr(dados,20)[1])"
   ]
  },
  {
   "cell_type": "markdown",
   "metadata": {},
   "source": [
    "b) Criar uma função que recebe como parâmetros de entrada uma matriz de dados e uma sequência de valores (array ou lista), e localiza a sequência na matriz, retornando a lista com as posições $(i,j)$ onde a sequência foi encontrada.\n",
    "\n",
    "Por exemplo, teremos o seguinte resultado quando procuramos a sequência [1 2 3] na matriz abaixo:\n",
    "\n",
    "![](figuras/ocorrencias.png)"
   ]
  },
  {
   "cell_type": "markdown",
   "metadata": {},
   "source": [
    "Você pode testar sua função com os dados disponíveis na planilha dados e com os vetores seq1, seq2 e seq3, do arquivo `ocorrencias.xls`. Os resultados esperados são os seguintes:\n",
    "\n",
    "![](figuras/ocorrencias2.png)"
   ]
  },
  {
   "cell_type": "code",
   "execution_count": 36,
   "metadata": {},
   "outputs": [],
   "source": [
    "def contaocorr2(matriz,seq):\n",
    "    mat=matriz.copy()\n",
    "    nlin=mat.shape[0]\n",
    "    ncol=mat.shape[1]\n",
    "    #conta quantas vezes a sequência \"seq\" aparece na \"matriz\", e identifica as posições das ocorrências\n",
    "    cont=0\n",
    "    lista=[]\n",
    "    tamanho=seq.shape[1]\n",
    "    primeiro=seq[0,0]\n",
    "    for i in range(mat.shape[0]): #todas as linhas da matriz\n",
    "        for j in range(ncol-tamanho+1): #todas as colunas, até a última possível\n",
    "            if mat[i,j]==primeiro:  #se encontrou o primeiro elemento da sequência, vai tentar achar os demais\n",
    "                achou=1\n",
    "                ind=1\n",
    "                while achou==1 and ind <tamanho:\n",
    "                    if mat[i,j+ind]!=seq[0,ind]:\n",
    "                        achou=0\n",
    "                    ind=ind+1\n",
    "                if achou==1:\n",
    "                    cont=cont+1\n",
    "                    lista.append([i,j])\n",
    "    return cont,lista"
   ]
  },
  {
   "cell_type": "code",
   "execution_count": 37,
   "metadata": {},
   "outputs": [
    {
     "data": {
      "text/plain": [
       "matrix([[ 8, 10, 14, 13,  3],\n",
       "        [ 2,  1,  2,  3, 14],\n",
       "        [ 3,  6,  2, 11, 11],\n",
       "        [ 5, 12,  1,  2,  3],\n",
       "        [ 7, 15,  4,  9,  3],\n",
       "        [ 1,  2,  3,  4,  7]])"
      ]
     },
     "execution_count": 37,
     "metadata": {},
     "output_type": "execute_result"
    }
   ],
   "source": [
    "M=np.matrix([[8,10,14,13,3],[2,1,2,3,14],[3,6,2,11,11],[5,12,1,2,3],[7,15,4,9,3],[1,2,3,4,7]])\n",
    "M"
   ]
  },
  {
   "cell_type": "code",
   "execution_count": 38,
   "metadata": {},
   "outputs": [
    {
     "data": {
      "text/plain": [
       "matrix([[1, 2, 3]])"
      ]
     },
     "execution_count": 38,
     "metadata": {},
     "output_type": "execute_result"
    }
   ],
   "source": [
    "seq=np.matrix([1,2,3])\n",
    "seq"
   ]
  },
  {
   "cell_type": "code",
   "execution_count": 39,
   "metadata": {},
   "outputs": [
    {
     "data": {
      "text/plain": [
       "(3, [[1, 1], [3, 2], [5, 0]])"
      ]
     },
     "execution_count": 39,
     "metadata": {},
     "output_type": "execute_result"
    }
   ],
   "source": [
    "contaocorr2(M,seq)"
   ]
  },
  {
   "cell_type": "code",
   "execution_count": 40,
   "metadata": {},
   "outputs": [
    {
     "data": {
      "text/plain": [
       "(3, [[14, 3], [66, 25], [115, 45]])"
      ]
     },
     "execution_count": 40,
     "metadata": {},
     "output_type": "execute_result"
    }
   ],
   "source": [
    "contaocorr2(dados,seq1)"
   ]
  },
  {
   "cell_type": "code",
   "execution_count": 41,
   "metadata": {},
   "outputs": [
    {
     "data": {
      "text/plain": [
       "(5, [[4, 19], [19, 2], [20, 37], [281, 34], [439, 16]])"
      ]
     },
     "execution_count": 41,
     "metadata": {},
     "output_type": "execute_result"
    }
   ],
   "source": [
    "contaocorr2(dados,seq2)"
   ]
  },
  {
   "cell_type": "code",
   "execution_count": 42,
   "metadata": {},
   "outputs": [
    {
     "data": {
      "text/plain": [
       "(2, [[10, 40], [36, 4]])"
      ]
     },
     "execution_count": 42,
     "metadata": {},
     "output_type": "execute_result"
    }
   ],
   "source": [
    "contaocorr2(dados,seq3)"
   ]
  },
  {
   "cell_type": "markdown",
   "metadata": {},
   "source": [
    "## QUESTÃO 10:\n",
    "\n",
    "**Troca-troca de figurinhas**: Criar uma função que recebe dois pares de listas, representando as figurinhas de dois jogadores: para cada jogador, passe a lista de figurinhas que ele precisa e a lista de figurinhas que ele tem duplicatas. Retorne com a lista de trocas que esses dois jogadores podem fazer entre si."
   ]
  },
  {
   "cell_type": "code",
   "execution_count": 43,
   "metadata": {},
   "outputs": [],
   "source": [
    "def trocafigurinhas(jogador1, jogador2):\n",
    "    precisa1=jogador1[0]\n",
    "    precisa2=jogador2[0]\n",
    "    duplicatas1=jogador1[1]\n",
    "    duplicatas2=jogador2[1]\n",
    "    \n",
    "    trocas1=[]\n",
    "    trocas2=[]\n",
    "    if len(duplicatas1)>len(duplicatas2):\n",
    "        for fig1 in duplicatas1:\n",
    "            for fig2 in precisa2:\n",
    "                if fig1==fig2:\n",
    "                    trocas1.append(fig1)\n",
    "        for fig2 in duplicatas2:\n",
    "            for fig1 in precisa1:\n",
    "                if fig1==fig2:\n",
    "                    trocas2.append(fig1)\n",
    "    else:\n",
    "        for fig2 in duplicatas2:\n",
    "            for fig1 in precisa1:\n",
    "                if fig1==fig2:\n",
    "                    trocas2.append(fig1)            \n",
    "        for fig1 in duplicatas1:\n",
    "            for fig2 in precisa2:\n",
    "                if fig1==fig2:\n",
    "                    trocas1.append(fig1)\n",
    "    trocas=[]\n",
    "    maximo=max(len(trocas1),len(trocas2))\n",
    "    for i in range(len(trocas2)):\n",
    "        trocas.append([trocas1[i],trocas2[i]])\n",
    "            \n",
    "    return trocas"
   ]
  },
  {
   "cell_type": "code",
   "execution_count": 44,
   "metadata": {},
   "outputs": [
    {
     "data": {
      "text/plain": [
       "[[1, 2], [4, 7]]"
      ]
     },
     "execution_count": 44,
     "metadata": {},
     "output_type": "execute_result"
    }
   ],
   "source": [
    "jogador1=[[2,7,8,9,10],[1,3,4,6]]\n",
    "jogador2=[[1,4,6,8],[2,3,5,7]]\n",
    "trocafigurinhas(jogador1,jogador2)"
   ]
  },
  {
   "cell_type": "code",
   "execution_count": 45,
   "metadata": {},
   "outputs": [
    {
     "data": {
      "text/plain": [
       "[[1, 2], [4, 7], [6, 10]]"
      ]
     },
     "execution_count": 45,
     "metadata": {},
     "output_type": "execute_result"
    }
   ],
   "source": [
    "jogador1=[[2,7,8,9,10],[1,3,4,6]]\n",
    "jogador2=[[1,4,6,8],[2,3,5,7,10]]\n",
    "trocafigurinhas(jogador1,jogador2)"
   ]
  }
 ],
 "metadata": {
  "kernelspec": {
   "display_name": "Python 3",
   "language": "python",
   "name": "python3"
  },
  "language_info": {
   "codemirror_mode": {
    "name": "ipython",
    "version": 3
   },
   "file_extension": ".py",
   "mimetype": "text/x-python",
   "name": "python",
   "nbconvert_exporter": "python",
   "pygments_lexer": "ipython3",
   "version": "3.8.3"
  }
 },
 "nbformat": 4,
 "nbformat_minor": 4
}
