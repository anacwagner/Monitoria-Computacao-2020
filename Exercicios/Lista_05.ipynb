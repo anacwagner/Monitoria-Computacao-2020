{
 "cells": [
  {
   "cell_type": "markdown",
   "metadata": {},
   "source": [
    "# Lista de Exercícios 5"
   ]
  },
  {
   "cell_type": "code",
   "execution_count": 1,
   "metadata": {},
   "outputs": [],
   "source": [
    "import numpy as np\n",
    "import pandas as pd"
   ]
  },
  {
   "cell_type": "markdown",
   "metadata": {},
   "source": [
    "## QUESTÃO 1:\n",
    "\n",
    "Implementar a ordenação de matrizes pelo método do [Bubble Sort](https://pt.wikipedia.org/wiki/Bubble_sort). A função deve receber dois parâmetros de entrada: (i) uma matriz e (ii) o tipo de ordenamento (linha ou coluna)."
   ]
  },
  {
   "cell_type": "code",
   "execution_count": null,
   "metadata": {},
   "outputs": [],
   "source": []
  },
  {
   "cell_type": "markdown",
   "metadata": {},
   "source": [
    "## QUESTÃO 2:\n",
    "\n",
    "Criar uma função que recebe uma matriz como parâmetro de entrada e troca 2 linhas (ou colunas) escolhidas (parâmetros de entrada) de posição. A escolha da troca por 'linha' ou 'coluna' também é um parâmetro de entrada. "
   ]
  },
  {
   "cell_type": "code",
   "execution_count": null,
   "metadata": {},
   "outputs": [],
   "source": []
  },
  {
   "cell_type": "markdown",
   "metadata": {},
   "source": [
    "## QUESTÃO 3:\n",
    "\n",
    "Criar uma função que recebe uma matriz como parâmetro de entrada e inverte a ordem das linhas (ou colunas) dessa matriz. "
   ]
  },
  {
   "cell_type": "code",
   "execution_count": null,
   "metadata": {},
   "outputs": [],
   "source": []
  },
  {
   "cell_type": "markdown",
   "metadata": {},
   "source": [
    "## QUESTÃO 4:\n",
    "\n",
    "Criar uma função para multiplicar duas matrizes, pela implementação do método de multiplicação matricial (não usar a função de multiplicação de matrizes do Numpy)."
   ]
  },
  {
   "cell_type": "code",
   "execution_count": null,
   "metadata": {},
   "outputs": [],
   "source": []
  },
  {
   "cell_type": "markdown",
   "metadata": {},
   "source": [
    "## QUESTÃO 5:\n",
    "\n",
    "Calcular o [determinante](https://pt.wikipedia.org/wiki/Determinante) de uma matriz usando o **método de escalonamento**. "
   ]
  },
  {
   "cell_type": "code",
   "execution_count": null,
   "metadata": {},
   "outputs": [],
   "source": []
  },
  {
   "cell_type": "markdown",
   "metadata": {},
   "source": [
    "## QUESTÃO 6:\n",
    "\n",
    "Calcular o [determinante](https://pt.wikipedia.org/wiki/Teorema_de_Laplace) de uma matriz usando o **método dos cofatores** (recursivo)."
   ]
  },
  {
   "cell_type": "code",
   "execution_count": null,
   "metadata": {},
   "outputs": [],
   "source": []
  },
  {
   "cell_type": "markdown",
   "metadata": {},
   "source": [
    "## QUESTÃO 7:\n",
    "\n",
    "\n",
    "\n",
    "Contar os pontos do boliche, as regras e um exemplo de jogo bem detalhado estão no arquivo `boliche-regras-de-pontos.docx`. Use os seguintes dados:\n",
    "\n"
   ]
  },
  {
   "cell_type": "code",
   "execution_count": 2,
   "metadata": {},
   "outputs": [],
   "source": [
    "#Dados: boliche\n",
    "jog1=[[10,0],[10,0],[10,0],[7,2],[8,2],[0,9],[10,0],[7,3],[9,0],[10,0],[10,8]]\n",
    "jog2=[[2,5],[5,5],[10,0],[6,3],[10,0],[10,0],[9,0],[5,2],[9,1],[9,0]]\n",
    "jog3=[[9,1],[10,0],[8,1],[5,4],[10,0],[10,0],[10,0],[9,1],[8,7],[8,2],[5,0]]\n",
    "jog4=[[2,2],[4,1],[8,1],[6,2],[9,1],[0,10],[1,5],[2,2],[4,2],[4,1]]"
   ]
  },
  {
   "cell_type": "code",
   "execution_count": null,
   "metadata": {},
   "outputs": [],
   "source": []
  },
  {
   "cell_type": "markdown",
   "metadata": {},
   "source": [
    "## QUESTÃO 8:\n",
    "\n",
    "**Campo minado**: Defina o tamanho $n$ do quadro do jogo e a quantidade $p$ de bombas no quadro. Crie uma função que recebe como parâmetro de entrada uma matriz $p\\times2$, com a lista das posições onde estão localizadas as bombas (em cada linha, a primeira coluna contém o índice da linha e a segunda coluna o índice da coluna onde está localizada a bomba); e retorna como saída a matriz de vizinhança, de dimensão $n\\times n$, contendo, em cada célula, a quantidade de bombas existentes nas células vizinhas. \n",
    "\n",
    "As células onde estão localizadas as bombas devem ser preenchidas com NaN (not a number - `np.nan`) e as células que não têm bombas nas vizinhanças devem ser preenchidas com zeros."
   ]
  },
  {
   "cell_type": "code",
   "execution_count": null,
   "metadata": {},
   "outputs": [],
   "source": []
  },
  {
   "cell_type": "markdown",
   "metadata": {},
   "source": [
    "## QUESTÃO 9:\n",
    "\n",
    "Uma das tarefas computacionais importantes é a localização de padrões de repetições em conjuntos de dados. Sua tarefa nesta questão é desenvolver um código para localizar e contar as ocorrências de uma sequência de valores dentro de uma matriz. \n",
    "\n",
    "a) Criar uma função que recebe como parâmetros de entrada (i) uma matriz de dados; e (ii) um valor a ser procurado, e retorna como parâmetros de saída (i) a quantidade de vezes que este valor aparece na matriz, e (ii) uma lista com as posições (linha coluna) onde esses valores são encontrados. "
   ]
  },
  {
   "cell_type": "code",
   "execution_count": 3,
   "metadata": {},
   "outputs": [],
   "source": [
    "dados=np.matrix(pd.read_excel('ocorrencias.xlsx',header=None))\n",
    "seq1=np.matrix(pd.read_excel('ocorrencias.xlsx',header=None,sheet_name=\"seq1\"))\n",
    "seq2=np.matrix(pd.read_excel('ocorrencias.xlsx',header=None,sheet_name=\"seq2\"))\n",
    "seq3=np.matrix(pd.read_excel('ocorrencias.xlsx',header=None,sheet_name=\"seq3\"))"
   ]
  },
  {
   "cell_type": "code",
   "execution_count": null,
   "metadata": {},
   "outputs": [],
   "source": []
  },
  {
   "cell_type": "markdown",
   "metadata": {},
   "source": [
    "b) Criar uma função que recebe como parâmetros de entrada uma matriz de dados e uma sequência de valores (array ou lista), e localiza a sequência na matriz, retornando a lista com as posições $(i,j)$ onde a sequência foi encontrada.\n",
    "\n",
    "Por exemplo, teremos o seguinte resultado quando procuramos a sequência [1 2 3] na matriz abaixo:\n",
    "\n",
    "![](figuras/ocorrencias.png)"
   ]
  },
  {
   "cell_type": "markdown",
   "metadata": {},
   "source": [
    "Você pode testar sua função com os dados disponíveis na planilha dados e com os vetores seq1, seq2 e seq3, do arquivo `ocorrencias.xls`. Os resultados esperados são os seguintes:\n",
    "\n",
    "![](figuras/ocorrencias2.png)"
   ]
  },
  {
   "cell_type": "code",
   "execution_count": null,
   "metadata": {},
   "outputs": [],
   "source": []
  },
  {
   "cell_type": "markdown",
   "metadata": {},
   "source": [
    "## QUESTÃO 10:\n",
    "\n",
    "**Troca-troca de figurinhas**: Criar uma função que recebe dois pares de listas, representando as figurinhas de dois jogadores: para cada jogador, passe a lista de figurinhas que ele precisa e a lista de figurinhas que ele tem duplicatas. Retorne com a lista de trocas que esses dois jogadores podem fazer entre si."
   ]
  },
  {
   "cell_type": "code",
   "execution_count": null,
   "metadata": {},
   "outputs": [],
   "source": []
  }
 ],
 "metadata": {
  "kernelspec": {
   "display_name": "Python 3",
   "language": "python",
   "name": "python3"
  },
  "language_info": {
   "codemirror_mode": {
    "name": "ipython",
    "version": 3
   },
   "file_extension": ".py",
   "mimetype": "text/x-python",
   "name": "python",
   "nbconvert_exporter": "python",
   "pygments_lexer": "ipython3",
   "version": "3.8.3"
  }
 },
 "nbformat": 4,
 "nbformat_minor": 4
}
